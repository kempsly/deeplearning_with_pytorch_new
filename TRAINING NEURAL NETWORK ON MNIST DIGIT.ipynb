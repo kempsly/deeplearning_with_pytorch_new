{
 "cells": [
  {
   "cell_type": "markdown",
   "id": "db2959a6",
   "metadata": {},
   "source": [
    "# IN THIS NOTEBOOK WE GONNA TRAIN A NEURAL NETWORK ON THE MNIST DIGIT DATASET"
   ]
  },
  {
   "cell_type": "code",
   "execution_count": 1,
   "id": "70268df0",
   "metadata": {},
   "outputs": [],
   "source": [
    "# Getting the data"
   ]
  },
  {
   "cell_type": "code",
   "execution_count": 2,
   "id": "a7fa9860",
   "metadata": {},
   "outputs": [],
   "source": [
    "from six.moves import urllib\n",
    "opener = urllib.request.build_opener()\n",
    "opener.addheaders = [('User-agent', 'Mozilla/5.0')]\n",
    "urllib.request.install_opener(opener)"
   ]
  },
  {
   "cell_type": "code",
   "execution_count": 4,
   "id": "bdac81ef",
   "metadata": {},
   "outputs": [],
   "source": [
    "# Import statements\n",
    "import torch\n",
    "from torch import nn\n",
    "import torch.nn.functional as F\n",
    "from torchvision import datasets, transforms\n"
   ]
  },
  {
   "cell_type": "code",
   "execution_count": 5,
   "id": "058f6d87",
   "metadata": {},
   "outputs": [],
   "source": [
    "# Define a transform to normalize the data\n",
    "transform = transforms.Compose([transforms.ToTensor(),\n",
    "                               transforms.Normalize((0.5,), (0.5)),\n",
    "                               ])\n",
    "# Now let's download and load the training dataset\n",
    "trainset = datasets.MNIST('~/.pytorch/MNIST_data/', download=True, train=True, transform=transform)\n",
    "trainloader = torch.utils.data.DataLoader(trainset, batch_size = 64, shuffle=True)"
   ]
  },
  {
   "cell_type": "code",
   "execution_count": 6,
   "id": "8ead87f9",
   "metadata": {},
   "outputs": [],
   "source": [
    "# Building a network(feed-forward)"
   ]
  },
  {
   "cell_type": "code",
   "execution_count": 7,
   "id": "5c5fb0b8",
   "metadata": {},
   "outputs": [],
   "source": [
    "model = nn.Sequential(nn.Linear(784, 128),\n",
    "                      nn.ReLU(),\n",
    "                      nn.Linear(128, 64),\n",
    "                      nn.ReLU(),\n",
    "                      nn.Linear(64, 10)\n",
    "                     )\n",
    "#The loss function\n",
    "criterion = nn.CrossEntropyLoss()\n",
    "\n",
    "#Getting the data\n",
    "images, labels = next(iter(trainloader))\n",
    "# Flatten images\n",
    "images = images.view(images.shape[0], -1)\n",
    "# Forward pass and getting our logit\n",
    "logits = model(images)\n",
    "# Calculate the loss\n",
    "loss = criterion(logits, labels)"
   ]
  },
  {
   "cell_type": "code",
   "execution_count": 8,
   "id": "b9ba758f",
   "metadata": {},
   "outputs": [
    {
     "name": "stdout",
     "output_type": "stream",
     "text": [
      "tensor(2.2939, grad_fn=<NllLossBackward0>)\n"
     ]
    }
   ],
   "source": [
    "print(loss)"
   ]
  },
  {
   "cell_type": "markdown",
   "id": "bd4fa460",
   "metadata": {},
   "source": [
    "# Let's Build a model that returns the log-softmax as the output and\n",
    "# calculate the loss using the negative log likelihood loss"
   ]
  },
  {
   "cell_type": "code",
   "execution_count": 11,
   "id": "a51886ed",
   "metadata": {},
   "outputs": [],
   "source": [
    "model = nn.Sequential(nn.Linear(784, 128),\n",
    "                      nn.ReLU(),\n",
    "                      nn.Linear(128, 64),\n",
    "                      nn.ReLU(),\n",
    "                      nn.Linear(64, 10),\n",
    "                      nn.LogSoftmax(dim=1)\n",
    "                     )\n",
    "\n",
    "#The Loss\n",
    "criterion = nn.NLLLoss()\n",
    "#Our data\n",
    "images, labels = next(iter(trainloader))\n",
    "#Flatten the images\n",
    "images = images.view(images.shape[0], -1)\n",
    "#Forward pass and logit probabilities\n",
    "logps = model(images)\n",
    "#Getting the loss value\n",
    "loss = criterion(logps, labels)"
   ]
  },
  {
   "cell_type": "code",
   "execution_count": 12,
   "id": "b03eb914",
   "metadata": {},
   "outputs": [
    {
     "name": "stdout",
     "output_type": "stream",
     "text": [
      "tensor(2.3077, grad_fn=<NllLossBackward0>)\n"
     ]
    }
   ],
   "source": [
    "print(loss)"
   ]
  },
  {
   "cell_type": "markdown",
   "id": "05fe55ce",
   "metadata": {},
   "source": [
    "# calculating the gradients using a backwards pass."
   ]
  },
  {
   "cell_type": "code",
   "execution_count": 15,
   "id": "91649392",
   "metadata": {},
   "outputs": [],
   "source": [
    "#Build a feed-forward network\n",
    "\n",
    "model = nn.Sequential(nn.Linear(784, 128),\n",
    "                      nn.ReLU(),\n",
    "                      nn.Linear(128, 64),\n",
    "                      nn.ReLU(),\n",
    "                      nn.Linear(64, 10),\n",
    "                      nn.LogSoftmax(dim=1)\n",
    "                     )\n",
    "#Defining the loss function\n",
    "criterion = nn.NLLLoss()\n",
    "# Getting required data\n",
    "images, labels = next(iter(trainloader))\n",
    "# Let's flatten the images\n",
    "images = images.view(images.shape[0], -1)\n",
    "logps = model(images)\n",
    "loss = criterion(logps, labels)"
   ]
  },
  {
   "cell_type": "code",
   "execution_count": 16,
   "id": "4625260a",
   "metadata": {},
   "outputs": [
    {
     "name": "stdout",
     "output_type": "stream",
     "text": [
      "Before backward pass: \n",
      " None\n",
      "After backward pass:\n",
      " tensor([[-5.5506e-04, -5.5506e-04, -5.5506e-04,  ..., -5.5506e-04,\n",
      "         -5.5506e-04, -5.5506e-04],\n",
      "        [ 4.0418e-04,  4.0418e-04,  4.0418e-04,  ...,  4.0418e-04,\n",
      "          4.0418e-04,  4.0418e-04],\n",
      "        [-2.7617e-05, -2.7617e-05, -2.7617e-05,  ..., -2.7617e-05,\n",
      "         -2.7617e-05, -2.7617e-05],\n",
      "        ...,\n",
      "        [ 5.9348e-06,  5.9348e-06,  5.9348e-06,  ...,  5.9348e-06,\n",
      "          5.9348e-06,  5.9348e-06],\n",
      "        [-2.3580e-03, -2.3580e-03, -2.3580e-03,  ..., -2.3580e-03,\n",
      "         -2.3580e-03, -2.3580e-03],\n",
      "        [ 2.4209e-03,  2.4209e-03,  2.4209e-03,  ...,  2.4209e-03,\n",
      "          2.4209e-03,  2.4209e-03]])\n"
     ]
    }
   ],
   "source": [
    "print(\"Before backward pass: \\n\", model[0].weight.grad)\n",
    "\n",
    "loss.backward()\n",
    "\n",
    "print(\"After backward pass:\\n\", model[0].weight.grad)"
   ]
  },
  {
   "cell_type": "code",
   "execution_count": 17,
   "id": "f342bffb",
   "metadata": {},
   "outputs": [],
   "source": [
    "# Let's train the network"
   ]
  },
  {
   "cell_type": "code",
   "execution_count": 18,
   "id": "93753d02",
   "metadata": {},
   "outputs": [],
   "source": [
    "from torch import optim\n",
    "\n",
    "# Optimize the parameters and setting up the learning rate\n",
    "optimizer = optim.SGD(model.parameters(), lr = 0.01)\n"
   ]
  },
  {
   "cell_type": "code",
   "execution_count": 19,
   "id": "a0f971bf",
   "metadata": {},
   "outputs": [
    {
     "name": "stdout",
     "output_type": "stream",
     "text": [
      "Initial weights -  Parameter containing:\n",
      "tensor([[ 0.0210,  0.0270, -0.0181,  ..., -0.0201, -0.0145,  0.0301],\n",
      "        [ 0.0026,  0.0220, -0.0150,  ...,  0.0096,  0.0073,  0.0295],\n",
      "        [ 0.0032,  0.0233, -0.0332,  ...,  0.0110,  0.0189,  0.0252],\n",
      "        ...,\n",
      "        [-0.0140, -0.0320, -0.0330,  ...,  0.0170,  0.0353, -0.0080],\n",
      "        [ 0.0204,  0.0140, -0.0247,  ..., -0.0304, -0.0112,  0.0160],\n",
      "        [ 0.0081, -0.0054, -0.0357,  ..., -0.0262,  0.0086,  0.0160]],\n",
      "       requires_grad=True)\n",
      "Gradient - tensor([[ 1.0388e-03,  1.0388e-03,  1.0388e-03,  ...,  1.0388e-03,\n",
      "          1.0388e-03,  1.0388e-03],\n",
      "        [-3.5102e-05, -3.5102e-05, -3.5102e-05,  ..., -3.5102e-05,\n",
      "         -3.5102e-05, -3.5102e-05],\n",
      "        [-3.4152e-03, -3.4152e-03, -3.4152e-03,  ..., -3.4152e-03,\n",
      "         -3.4152e-03, -3.4152e-03],\n",
      "        ...,\n",
      "        [ 4.7617e-04,  4.7617e-04,  4.7617e-04,  ...,  4.7617e-04,\n",
      "          4.7617e-04,  4.7617e-04],\n",
      "        [-4.0819e-04, -4.0819e-04, -4.0819e-04,  ..., -4.0819e-04,\n",
      "         -4.0819e-04, -4.0819e-04],\n",
      "        [-1.1349e-03, -1.1349e-03, -1.1349e-03,  ..., -1.1349e-03,\n",
      "         -1.1349e-03, -1.1349e-03]])\n"
     ]
    }
   ],
   "source": [
    "print(\"Initial weights - \", model[0].weight)\n",
    "\n",
    "images, labels = next(iter(trainloader))\n",
    "images.resize_(64, 784)\n",
    "#Clear the gradients\n",
    "optimizer.zero_grad()\n",
    "\n",
    "# Forward pass, then backward pass, then update weights\n",
    "output = model(images)\n",
    "loss = criterion(output, labels)\n",
    "loss.backward()\n",
    "print('Gradient -', model[0].weight.grad)"
   ]
  },
  {
   "cell_type": "code",
   "execution_count": 20,
   "id": "c9b797a8",
   "metadata": {},
   "outputs": [
    {
     "name": "stdout",
     "output_type": "stream",
     "text": [
      "Updated weight Parameter containing:\n",
      "tensor([[ 0.0210,  0.0270, -0.0181,  ..., -0.0201, -0.0145,  0.0301],\n",
      "        [ 0.0026,  0.0220, -0.0150,  ...,  0.0096,  0.0073,  0.0295],\n",
      "        [ 0.0033,  0.0234, -0.0332,  ...,  0.0111,  0.0189,  0.0253],\n",
      "        ...,\n",
      "        [-0.0140, -0.0320, -0.0330,  ...,  0.0170,  0.0353, -0.0080],\n",
      "        [ 0.0204,  0.0140, -0.0247,  ..., -0.0304, -0.0112,  0.0160],\n",
      "        [ 0.0082, -0.0054, -0.0357,  ..., -0.0262,  0.0086,  0.0160]],\n",
      "       requires_grad=True)\n"
     ]
    }
   ],
   "source": [
    "optimizer.step()\n",
    "print('Updated weight', model[0].weight)"
   ]
  },
  {
   "cell_type": "markdown",
   "id": "1d2e0722",
   "metadata": {},
   "source": [
    "# Implement the training pass for our network"
   ]
  },
  {
   "cell_type": "code",
   "execution_count": 21,
   "id": "bcfde662",
   "metadata": {},
   "outputs": [],
   "source": [
    "# Real training"
   ]
  },
  {
   "cell_type": "code",
   "execution_count": 37,
   "id": "99823cc2",
   "metadata": {},
   "outputs": [
    {
     "name": "stdout",
     "output_type": "stream",
     "text": [
      "Training loss:1.8652393716230575\n",
      "Training loss:0.825065670237104\n",
      "Training loss:0.5106232870044485\n",
      "Training loss:0.423431423347769\n",
      "Training loss:0.3836213284527569\n"
     ]
    }
   ],
   "source": [
    "model = nn.Sequential(nn.Linear(784, 128),\n",
    "                      nn.ReLU(),\n",
    "                      nn.Linear(128, 64),\n",
    "                      nn.ReLU(),\n",
    "                      nn.Linear(64, 10),\n",
    "                      nn.LogSoftmax(dim=1)\n",
    "                     )\n",
    "\n",
    "criterion = nn.NLLLoss()\n",
    "optimizer = optim.SGD(model.parameters(), lr = 0.003)\n",
    "\n",
    "epochs = 5\n",
    "for e in range(epochs):\n",
    "    running_loss = 0\n",
    "    for images, labels in trainloader:\n",
    "        #Let's fletten the MNIST images into a 784 long vector\n",
    "        images = images.view(images.shape[0], -1)\n",
    "        \n",
    "        #Training pass\n",
    "        optimizer.zero_grad()\n",
    "        \n",
    "        output = model(images)\n",
    "        loss = criterion(output, labels)\n",
    "        loss.backward()\n",
    "        optimizer.step()\n",
    "        \n",
    "        running_loss += loss.item()\n",
    "\n",
    "    else:\n",
    "        print(f\"Training loss:{running_loss/len(trainloader)}\")\n"
   ]
  },
  {
   "cell_type": "code",
   "execution_count": 38,
   "id": "13d88b33",
   "metadata": {},
   "outputs": [],
   "source": [
    "import matplotlib.pyplot as plt\n",
    "import numpy as np\n",
    "from torch import nn, optim\n",
    "from torch.autograd import Variable"
   ]
  },
  {
   "cell_type": "code",
   "execution_count": 39,
   "id": "e40e8286",
   "metadata": {},
   "outputs": [],
   "source": [
    "def view_classify(img, ps, version=\"MNIST\"):\n",
    "    ''' Function for viewing an image and it's predicted classes.\n",
    "    '''\n",
    "    ps = ps.data.numpy().squeeze()\n",
    "\n",
    "    fig, (ax1, ax2) = plt.subplots(figsize=(6,9), ncols=2)\n",
    "    ax1.imshow(img.resize_(1, 28, 28).numpy().squeeze())\n",
    "    ax1.axis('off')\n",
    "    ax2.barh(np.arange(10), ps)\n",
    "    ax2.set_aspect(0.1)\n",
    "    ax2.set_yticks(np.arange(10))\n",
    "    if version == \"MNIST\":\n",
    "        ax2.set_yticklabels(np.arange(10))\n",
    "    elif version == \"Fashion\":\n",
    "        ax2.set_yticklabels(['T-shirt/top',\n",
    "                            'Trouser',\n",
    "                            'Pullover',\n",
    "                            'Dress',\n",
    "                            'Coat',\n",
    "                            'Sandal',\n",
    "                            'Shirt',\n",
    "                            'Sneaker',\n",
    "                            'Bag',\n",
    "                            'Ankle Boot'], size='small');\n",
    "    ax2.set_title('Class Probability')\n",
    "    ax2.set_xlim(0, 1.1)\n",
    "\n",
    "    plt.tight_layout()"
   ]
  },
  {
   "cell_type": "code",
   "execution_count": 41,
   "id": "43a22ce4",
   "metadata": {},
   "outputs": [
    {
     "data": {
      "image/png": "[encoded data removed]",
      "text/plain": [
       "<Figure size 600x900 with 2 Axes>"
      ]
     },
     "metadata": {},
     "output_type": "display_data"
    }
   ],
   "source": [
    "# Checkout our prediction\n",
    "%matplotlib inline\n",
    "\n",
    "images, labels = next(iter(trainloader))\n",
    "\n",
    "img = images[0].view(1, 784)\n",
    "# Turn off gradients to speed up this part\n",
    "with torch.no_grad():\n",
    "    logps = model(img)\n",
    "\n",
    "# Output of the network are log-probabilities, need to take exponential for probabilities\n",
    "ps = torch.exp(logps)\n",
    "view_classify(img.view(1, 28, 28), ps)"
   ]
  },
  {
   "cell_type": "code",
   "execution_count": null,
   "id": "d2facda4",
   "metadata": {},
   "outputs": [],
   "source": []
  }
 ],
 "metadata": {
  "kernelspec": {
   "display_name": "Python 3 (ipykernel)",
   "language": "python",
   "name": "python3"
  },
  "language_info": {
   "codemirror_mode": {
    "name": "ipython",
    "version": 3
   },
   "file_extension": ".py",
   "mimetype": "text/x-python",
   "name": "python",
   "nbconvert_exporter": "python",
   "pygments_lexer": "ipython3",
   "version": "3.9.13"
  }
 },
 "nbformat": 4,
 "nbformat_minor": 5
}
