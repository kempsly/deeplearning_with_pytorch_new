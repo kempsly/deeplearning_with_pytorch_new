{
 "cells": [
  {
   "cell_type": "markdown",
   "id": "eb8ce9c1",
   "metadata": {},
   "source": [
    "# IN THIS NOTEBOOK WE GONNA BUILD A SINGLE NEURAL NETWORK USING PYTORCH"
   ]
  },
  {
   "cell_type": "code",
   "execution_count": 2,
   "id": "3560bfd7",
   "metadata": {},
   "outputs": [],
   "source": [
    "# LET'S FIRST IMPORT PYTORCH\n",
    "import torch"
   ]
  },
  {
   "cell_type": "code",
   "execution_count": 12,
   "id": "8ba2c3e3",
   "metadata": {},
   "outputs": [],
   "source": [
    "# Defining an activation function(sigmoid activation function)\n",
    "\n",
    "def activation_func(x):\n",
    "    \"\"\"\n",
    "    This a sigmoid activation function\n",
    "    \"\"\"\n",
    "    \n",
    "    return 1/(1+torch.exp(-x))"
   ]
  },
  {
   "cell_type": "code",
   "execution_count": 13,
   "id": "a79d994f",
   "metadata": {},
   "outputs": [],
   "source": [
    "# Let's generate some random data\n",
    "# First setting up the random seed\n",
    "torch.manual_seed(7)\n",
    "# Defining our features\n",
    "features = torch.randn((1, 5))\n",
    "# Defining the True weights\n",
    "weights =  torch.rand_like(features)\n",
    "# Defining true bias term\n",
    "bias = torch.randn((1,1))\n"
   ]
  },
  {
   "cell_type": "code",
   "execution_count": 6,
   "id": "fbf64abf",
   "metadata": {},
   "outputs": [],
   "source": [
    "weights = weights.view(5, 1)"
   ]
  },
  {
   "cell_type": "code",
   "execution_count": 7,
   "id": "b9c7a86c",
   "metadata": {
    "scrolled": true
   },
   "outputs": [
    {
     "data": {
      "text/plain": [
       "tensor([[1.3592]])"
      ]
     },
     "execution_count": 7,
     "metadata": {},
     "output_type": "execute_result"
    }
   ],
   "source": [
    "torch.mm(features, weights)"
   ]
  },
  {
   "cell_type": "code",
   "execution_count": 16,
   "id": "82d5a90d",
   "metadata": {},
   "outputs": [],
   "source": [
    "# Finding the label y\n",
    "\n",
    "y = activation_func(torch.sum(features*weights)+bias)\n",
    "y = activation_func((features*weights).sum()+bias)"
   ]
  },
  {
   "cell_type": "code",
   "execution_count": 17,
   "id": "84de4c6a",
   "metadata": {},
   "outputs": [
    {
     "data": {
      "text/plain": [
       "tensor([[0.6140]])"
      ]
     },
     "execution_count": 17,
     "metadata": {},
     "output_type": "execute_result"
    }
   ],
   "source": [
    "y"
   ]
  },
  {
   "cell_type": "code",
   "execution_count": 18,
   "id": "0e57543b",
   "metadata": {},
   "outputs": [],
   "source": [
    "# Other way to find y\n",
    "\n",
    "y = activation_func(torch.mm(features, weights.view(5, 1))+bias)"
   ]
  },
  {
   "cell_type": "code",
   "execution_count": 19,
   "id": "effd87e7",
   "metadata": {},
   "outputs": [
    {
     "data": {
      "text/plain": [
       "tensor([[0.6140]])"
      ]
     },
     "execution_count": 19,
     "metadata": {},
     "output_type": "execute_result"
    }
   ],
   "source": [
    "y"
   ]
  },
  {
   "cell_type": "code",
   "execution_count": 20,
   "id": "0594af49",
   "metadata": {},
   "outputs": [
    {
     "data": {
      "text/plain": [
       "5"
      ]
     },
     "execution_count": 20,
     "metadata": {},
     "output_type": "execute_result"
    }
   ],
   "source": [
    "features.shape[1]"
   ]
  },
  {
   "cell_type": "markdown",
   "id": "fda29592",
   "metadata": {},
   "source": [
    "# PUTTING ALL TOGETHER"
   ]
  },
  {
   "cell_type": "code",
   "execution_count": 21,
   "id": "a22f02a6",
   "metadata": {},
   "outputs": [
    {
     "name": "stdout",
     "output_type": "stream",
     "text": [
      "tensor([[0.9940]])\n"
     ]
    }
   ],
   "source": [
    "# Let's generate some random data\n",
    "# Setting up the random seed\n",
    "torch.manual_seed(7)\n",
    "# Defining our features\n",
    "features = torch.randn((1, 5))\n",
    "# Define the size of the layers in our network\n",
    "# Number of input units\n",
    "n_input = features.shape[1]\n",
    "# Number of hidden units\n",
    "n_hidden = 2\n",
    "# Number of output units\n",
    "n_output = 1\n",
    "\n",
    "# Weights for inputs to hidden layer\n",
    "w1 = torch.randn(n_input, n_hidden)\n",
    "# Weights for hidden layer\n",
    "w2 = torch.randn(n_hidden, n_output)\n",
    "\n",
    "# Setting up the bias for hidden and output layers\n",
    "b1 = torch.randn((1, n_hidden))\n",
    "b2 = torch.randn((1, n_output))\n",
    "\n",
    "Result1 =  activation_func(torch.mm(features, w1)+ b1)\n",
    "output = activation_func(torch.mm(Result1, w2) + b2)\n",
    "print(output)"
   ]
  },
  {
   "cell_type": "code",
   "execution_count": null,
   "id": "976bc06c",
   "metadata": {},
   "outputs": [],
   "source": []
  }
 ],
 "metadata": {
  "kernelspec": {
   "display_name": "Python 3 (ipykernel)",
   "language": "python",
   "name": "python3"
  },
  "language_info": {
   "codemirror_mode": {
    "name": "ipython",
    "version": 3
   },
   "file_extension": ".py",
   "mimetype": "text/x-python",
   "name": "python",
   "nbconvert_exporter": "python",
   "pygments_lexer": "ipython3",
   "version": "3.9.13"
  }
 },
 "nbformat": 4,
 "nbformat_minor": 5
}
